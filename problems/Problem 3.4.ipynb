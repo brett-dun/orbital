{
 "cells": [
  {
   "cell_type": "code",
   "execution_count": 1,
   "id": "cb307a3d",
   "metadata": {},
   "outputs": [],
   "source": [
    "# Problem 3.4\n",
    "# An earth-orbiting satellite has a perigee radius of 7000 km and an apogee radius of 10000 km.\n",
    "# A) What true anomaly ΔΘ is swept out between t = 0.5 hr and t = 1.5 hr after perigee passage?\n",
    "# B) What area is swept out by the position vector during that time interval?"
   ]
  },
  {
   "cell_type": "code",
   "execution_count": 2,
   "id": "9fdc2c72",
   "metadata": {},
   "outputs": [],
   "source": [
    "# Note: I was not able to get my solution to this problem to converge to more than +/- 2% of\n",
    "# what the textbook says the solution is."
   ]
  },
  {
   "cell_type": "code",
   "execution_count": 3,
   "id": "47491c85",
   "metadata": {},
   "outputs": [],
   "source": [
    "import math"
   ]
  },
  {
   "cell_type": "code",
   "execution_count": 4,
   "id": "214fc75b",
   "metadata": {},
   "outputs": [],
   "source": [
    "# Math constants and functions\n",
    "π = math.pi\n",
    "sqrt = math.sqrt\n",
    "cos = math.cos\n",
    "acos = math.acos\n",
    "sin = math.sin\n",
    "tan = math.tan\n",
    "atan = math.atan"
   ]
  },
  {
   "cell_type": "code",
   "execution_count": 5,
   "id": "604dcfad",
   "metadata": {},
   "outputs": [],
   "source": [
    "# From Table A.1 and A.2\n",
    "R_earth = 6378  # km\n",
    "μ_earth = 398600  # km^3 / s^2"
   ]
  },
  {
   "cell_type": "code",
   "execution_count": 6,
   "id": "004b69db",
   "metadata": {},
   "outputs": [],
   "source": [
    "rp = 7000.0  # perigee radius in km\n",
    "ra = 10000.0  # apogee radius in km"
   ]
  },
  {
   "cell_type": "code",
   "execution_count": 7,
   "id": "f2dc884d",
   "metadata": {},
   "outputs": [],
   "source": [
    "# Equation 2.74\n",
    "e = (ra - rp) / (ra + rp)"
   ]
  },
  {
   "cell_type": "code",
   "execution_count": 8,
   "id": "9e8f7450",
   "metadata": {},
   "outputs": [],
   "source": [
    "a = (rp + ra) / 2"
   ]
  },
  {
   "cell_type": "code",
   "execution_count": 9,
   "id": "3f52d30b",
   "metadata": {},
   "outputs": [],
   "source": [
    "T = 2*π/sqrt(μ_earth) * a**1.5"
   ]
  },
  {
   "cell_type": "code",
   "execution_count": 10,
   "id": "1ae0e1a5",
   "metadata": {},
   "outputs": [],
   "source": [
    "ta = 0.5 * 60 * 60\n",
    "tb = 1.5 * 60 * 60"
   ]
  },
  {
   "cell_type": "code",
   "execution_count": 11,
   "id": "05d95254",
   "metadata": {},
   "outputs": [],
   "source": [
    "# Equation 3.5\n",
    "Me_a = 2*π / T * ta\n",
    "Me_b = 2*π / T * tb"
   ]
  },
  {
   "cell_type": "code",
   "execution_count": 12,
   "id": "c091a88a",
   "metadata": {},
   "outputs": [],
   "source": [
    "# TODO: solve for E\n",
    "E_a = 0.0\n",
    "prev = 1.0\n",
    "\n",
    "while abs(E_a - prev) > 1e-6:\n",
    "    f = E_a - e*sin(E_a) - Me_a\n",
    "    df = 1 - e*cos(E_a)\n",
    "    prev = E_a\n",
    "    E_a = E_a - f / df\n",
    "\n",
    "E_b = 0.0\n",
    "prev = 1.0\n",
    "while abs(E_b - prev) > 1e-6:\n",
    "    f = E_b - e*sin(E_b) - Me_b\n",
    "    df = 1 - e*cos(E_b)\n",
    "    prev = E_b\n",
    "    E_b = E_b - f / df"
   ]
  },
  {
   "cell_type": "code",
   "execution_count": 13,
   "id": "934f8696",
   "metadata": {},
   "outputs": [
    {
     "data": {
      "text/plain": [
       "(1.6263478219215814, 4.196909030355864)"
      ]
     },
     "execution_count": 13,
     "metadata": {},
     "output_type": "execute_result"
    }
   ],
   "source": [
    "E_a, E_b"
   ]
  },
  {
   "cell_type": "code",
   "execution_count": 14,
   "id": "4a8d855b",
   "metadata": {},
   "outputs": [],
   "source": [
    "# Equation 3.7b\n",
    "Θ_a = acos((e - sin(E_a)) / (e * cos(E_a) - 1))\n",
    "Θ_b = acos((e - sin(E_b)) / (e * cos(E_b) - 1))"
   ]
  },
  {
   "cell_type": "code",
   "execution_count": 15,
   "id": "3829d2fc",
   "metadata": {},
   "outputs": [],
   "source": [
    "ΔΘ = Θ_b - Θ_a"
   ]
  },
  {
   "cell_type": "code",
   "execution_count": 16,
   "id": "99504ab7",
   "metadata": {},
   "outputs": [],
   "source": [
    "answer_a = math.degrees(ΔΘ)"
   ]
  },
  {
   "cell_type": "code",
   "execution_count": 17,
   "id": "2bd1c74a",
   "metadata": {},
   "outputs": [
    {
     "data": {
      "text/plain": [
       "128.80702810523758"
      ]
     },
     "execution_count": 17,
     "metadata": {},
     "output_type": "execute_result"
    }
   ],
   "source": [
    "answer_a"
   ]
  },
  {
   "cell_type": "code",
   "execution_count": 18,
   "id": "05ddd316",
   "metadata": {},
   "outputs": [],
   "source": [
    "assert math.isclose(answer_a, 128.7, rel_tol=2e-2)"
   ]
  },
  {
   "cell_type": "code",
   "execution_count": 19,
   "id": "b6c445aa",
   "metadata": {},
   "outputs": [],
   "source": [
    "# From 2.62\n",
    "b = a * (1 - e**2)"
   ]
  },
  {
   "cell_type": "code",
   "execution_count": 20,
   "id": "b9c8f29c",
   "metadata": {},
   "outputs": [],
   "source": [
    "answer_b = 1/2 * a * b * (Me_b - Me_a)"
   ]
  },
  {
   "cell_type": "code",
   "execution_count": 21,
   "id": "93616953",
   "metadata": {},
   "outputs": [
    {
     "data": {
      "text/plain": [
       "101510461.8512567"
      ]
     },
     "execution_count": 21,
     "metadata": {},
     "output_type": "execute_result"
    }
   ],
   "source": [
    "answer_b"
   ]
  },
  {
   "cell_type": "code",
   "execution_count": 22,
   "id": "1f582888",
   "metadata": {},
   "outputs": [],
   "source": [
    "assert math.isclose(answer_b, 1.03e8, rel_tol=2e-2)"
   ]
  },
  {
   "cell_type": "code",
   "execution_count": null,
   "id": "b04092c8",
   "metadata": {},
   "outputs": [],
   "source": []
  }
 ],
 "metadata": {
  "kernelspec": {
   "display_name": "Python 3 (ipykernel)",
   "language": "python",
   "name": "python3"
  },
  "language_info": {
   "codemirror_mode": {
    "name": "ipython",
    "version": 3
   },
   "file_extension": ".py",
   "mimetype": "text/x-python",
   "name": "python",
   "nbconvert_exporter": "python",
   "pygments_lexer": "ipython3",
   "version": "3.9.13"
  }
 },
 "nbformat": 4,
 "nbformat_minor": 5
}
