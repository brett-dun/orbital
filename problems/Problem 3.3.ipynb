{
 "cells": [
  {
   "cell_type": "code",
   "execution_count": 1,
   "id": "ae0fce94",
   "metadata": {},
   "outputs": [],
   "source": [
    "# Problem 3.3\n",
    "# A satellite is in earth orbit for which perigee altitude is 200 km and apogee altitude is 600 km.\n",
    "# Find the time interval during which the satellite remains above an altitude of 400 km."
   ]
  },
  {
   "cell_type": "code",
   "execution_count": 2,
   "id": "805a233d",
   "metadata": {},
   "outputs": [],
   "source": [
    "import math"
   ]
  },
  {
   "cell_type": "code",
   "execution_count": 3,
   "id": "36b05f71",
   "metadata": {},
   "outputs": [],
   "source": [
    "# Math constants and functions\n",
    "π = math.pi\n",
    "sqrt = math.sqrt\n",
    "cos = math.cos\n",
    "acos = math.acos\n",
    "sin = math.sin\n",
    "tan = math.tan\n",
    "atan = math.atan"
   ]
  },
  {
   "cell_type": "code",
   "execution_count": 4,
   "id": "c3b51197",
   "metadata": {},
   "outputs": [],
   "source": [
    "# From Table A.1 and A.2\n",
    "R_earth = 6378  # km\n",
    "μ_earth = 398600  # km^3 / s^2"
   ]
  },
  {
   "cell_type": "code",
   "execution_count": 5,
   "id": "42a481ed",
   "metadata": {},
   "outputs": [],
   "source": [
    "# From the problem\n",
    "zp = 200.0  # perigee altitude in km\n",
    "za = 600.0  # apogee altitude in km"
   ]
  },
  {
   "cell_type": "code",
   "execution_count": 6,
   "id": "c84456a3",
   "metadata": {},
   "outputs": [],
   "source": [
    "rp = R_earth + zp  # perigee radius in km\n",
    "ra = R_earth + za  # apogee radius in km"
   ]
  },
  {
   "cell_type": "code",
   "execution_count": 7,
   "id": "3e73f035",
   "metadata": {},
   "outputs": [],
   "source": [
    "# Equation 2.74\n",
    "e = (ra - rp) / (ra + rp)"
   ]
  },
  {
   "cell_type": "code",
   "execution_count": 8,
   "id": "e3aeb07c",
   "metadata": {},
   "outputs": [],
   "source": [
    "a = (rp + ra) / 2"
   ]
  },
  {
   "cell_type": "code",
   "execution_count": 9,
   "id": "32c4155e",
   "metadata": {},
   "outputs": [],
   "source": [
    "T = 2*π/sqrt(μ_earth) * a**1.5"
   ]
  },
  {
   "cell_type": "code",
   "execution_count": 10,
   "id": "49514e5f",
   "metadata": {},
   "outputs": [],
   "source": [
    "z = 400.0 # km\n",
    "r = R_earth + z"
   ]
  },
  {
   "cell_type": "code",
   "execution_count": 11,
   "id": "ee420a4d",
   "metadata": {},
   "outputs": [],
   "source": [
    "# From equation 2.62\n",
    "# r = a * (1 - e**2) / (1 + e * cos(Θ))\n",
    "# becomes\n",
    "# 1 + e * cos(Θ) = a * (1 - e**2) / r\n",
    "# becomes\n",
    "# e * cos(Θ) = a * (1 - e**2) / r - 1\n",
    "# becomes\n",
    "# cos(Θ) = (a * (1 - e**2) / r - 1) / e\n",
    "# becomes\n",
    "Θ = acos((a * (1 - e**2) / r - 1) / e)"
   ]
  },
  {
   "cell_type": "code",
   "execution_count": 12,
   "id": "4b410fcc",
   "metadata": {},
   "outputs": [
    {
     "data": {
      "text/plain": [
       "91.6908851319343"
      ]
     },
     "execution_count": 12,
     "metadata": {},
     "output_type": "execute_result"
    }
   ],
   "source": [
    "math.degrees(Θ)"
   ]
  },
  {
   "cell_type": "code",
   "execution_count": 13,
   "id": "e2e6ccb8",
   "metadata": {},
   "outputs": [],
   "source": [
    "# Equation 3.10b\n",
    "E = 2 * atan(sqrt((1-e)/(1+e))*tan(Θ/2))"
   ]
  },
  {
   "cell_type": "code",
   "execution_count": 14,
   "id": "0f16bb43",
   "metadata": {},
   "outputs": [],
   "source": [
    "# Equation 3.11 (Kepler's Equation)\n",
    "Me = E - e*sin(E)"
   ]
  },
  {
   "cell_type": "code",
   "execution_count": 15,
   "id": "36602f99",
   "metadata": {},
   "outputs": [],
   "source": [
    "# From Equation 3.5\n",
    "# t is the time below 400km for half the orbit\n",
    "t = Me / (2*π) * T"
   ]
  },
  {
   "cell_type": "code",
   "execution_count": 16,
   "id": "cc892f8a",
   "metadata": {},
   "outputs": [],
   "source": [
    "# Find the time above 400km for the entire orbit and convert to minutes.\n",
    "answer = (T - 2*t) / 60"
   ]
  },
  {
   "cell_type": "code",
   "execution_count": 17,
   "id": "4b717a5e",
   "metadata": {},
   "outputs": [
    {
     "data": {
      "text/plain": [
       "47.14816721707107"
      ]
     },
     "execution_count": 17,
     "metadata": {},
     "output_type": "execute_result"
    }
   ],
   "source": [
    "answer  # in minutes"
   ]
  },
  {
   "cell_type": "code",
   "execution_count": 18,
   "id": "0e63d7e2",
   "metadata": {},
   "outputs": [],
   "source": [
    "# Assert that the answer matches the answer given in the textbook.\n",
    "assert math.isclose(answer, 47.15, abs_tol=5e-3)"
   ]
  },
  {
   "cell_type": "code",
   "execution_count": null,
   "id": "3ba22de8",
   "metadata": {},
   "outputs": [],
   "source": []
  }
 ],
 "metadata": {
  "kernelspec": {
   "display_name": "Python 3 (ipykernel)",
   "language": "python",
   "name": "python3"
  },
  "language_info": {
   "codemirror_mode": {
    "name": "ipython",
    "version": 3
   },
   "file_extension": ".py",
   "mimetype": "text/x-python",
   "name": "python",
   "nbconvert_exporter": "python",
   "pygments_lexer": "ipython3",
   "version": "3.9.13"
  }
 },
 "nbformat": 4,
 "nbformat_minor": 5
}
